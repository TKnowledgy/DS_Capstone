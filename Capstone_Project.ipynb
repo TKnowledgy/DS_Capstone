{
 "cells": [
  {
   "cell_type": "markdown",
   "metadata": {},
   "source": [
    "# Data Science Capstone Project\n",
    "#### Destination Cities - Vacation Travel Planning"
   ]
  },
  {
   "cell_type": "markdown",
   "metadata": {},
   "source": [
    " "
   ]
  },
  {
   "cell_type": "markdown",
   "metadata": {},
   "source": [
    "## Introduction/Business Problem"
   ]
  },
  {
   "cell_type": "markdown",
   "metadata": {},
   "source": [
    "    When making decisions about vacation plans, individuals may not know specifically where they want to travel next or they may want to visit a new location but the location they desire is over their budget. In these cases, can we automatically provide suggestions for similar travel destinations based on venues and attributes by leveraging the Foursquare location data? By providing location recommendations the traveler who may not know where they want to visit next but knows the locations they enjoyed previously can narrow their destination options to those which are similar to locations they have already enjoyed. In the case of the individual who may have a location in mind that exceeds their budget, providing similar destinations can allow the individual to seek a similar experience in a different location that may fit in their budget. This application of the Foursquare data can be useful in search logic for travel or hotel sites. "
   ]
  },
  {
   "cell_type": "markdown",
   "metadata": {},
   "source": [
    "## Data"
   ]
  },
  {
   "cell_type": "markdown",
   "metadata": {},
   "source": [
    "    In order to solve this problem and execute an example of this functionality a list of possible vacation locations has been predetermined by myself as a sample set. These locations include specific areas of possible destination cities that may be of interest to visit on a vacation. A total of 14 U.S. locations have been included in the sample list which is composed of the following: \n",
    "                    \"Savannah Historic District,Savannah,Georgia\"\n",
    "                    \"Downtown Charleston,Charleston,South Carolina\"\n",
    "                    \"Southwest Orlando,Orlando,Florida\"\n",
    "                    \"Garden District,New Orleans,Louisiana\"\n",
    "                    \"Fisherman's Wharf,San Francisco,California\"\n",
    "                    \"Beacon Hill,Boston,Massachusetts\"\n",
    "                    \"Bell Rock,Sedona,Arizona\"\n",
    "                    \"Downtown,Key West,Florida\"\n",
    "                    \"The Loop,Chicago,Illinois\"\n",
    "                    \"Downtown,Houston,Texas\"\n",
    "                    \"Downtown,Nashville,Tennessee\"\n",
    "                    \"Union Station,Denver,Colorado\"\n",
    "                    \"Downtown,Asheville,North Carolina\"\n",
    "                    \"Downtown,St. Augustine,Florida\"\n",
    "       Specific areas in each city are intentionally included to replicate a traveler who would be staying in a hotel or rental within a specific area of the city and therefore would tie their experience to the area they visited. The latitude and longitude coordinates will need to be determined for each of these locations in order to build proper data associations. A Nominatim geocoder tool will be used to establish these coordinates. Once destination cities and coordinates have been established, Foursquare location data will be used to find venue information for the indicated area in the destination cities above. This informaiton includes such venues as:\n",
    "                    \"Concert Hall\"\n",
    "                    \"Tea Room\"\n",
    "                    \"Bar\"\n",
    "                    \"Burger Joint\"\n",
    "                    \"Historic Site\"\n",
    "                    ect. \n",
    "        The venue information will be analyzed across all locations and used to determine similarities between the possible destinations. For example, destinations with a large number of historic sites may be similar or locations with a high number of concert halls or music venues. Additional information regarding the complete analysis of this section will be expressed in the Methodology section of this report. "
   ]
  },
  {
   "cell_type": "code",
   "execution_count": null,
   "metadata": {},
   "outputs": [],
   "source": []
  }
 ],
 "metadata": {
  "kernelspec": {
   "display_name": "Python",
   "language": "python",
   "name": "conda-env-python-py"
  },
  "language_info": {
   "codemirror_mode": {
    "name": "ipython",
    "version": 3
   },
   "file_extension": ".py",
   "mimetype": "text/x-python",
   "name": "python",
   "nbconvert_exporter": "python",
   "pygments_lexer": "ipython3",
   "version": "3.6.10"
  }
 },
 "nbformat": 4,
 "nbformat_minor": 4
}
